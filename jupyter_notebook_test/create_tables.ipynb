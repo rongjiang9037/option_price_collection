{
 "cells": [
  {
   "cell_type": "code",
   "execution_count": 54,
   "metadata": {},
   "outputs": [
    {
     "name": "stdout",
     "output_type": "stream",
     "text": [
      "README.md                     call_put_consolidate_5.csv.gz\r\n",
      "call_put_consolidate_1.csv.gz config.cfg\r\n",
      "call_put_consolidate_2.csv.gz \u001b[34mjupyter_notebook_test\u001b[m\u001b[m\r\n",
      "call_put_consolidate_3.csv.gz \u001b[34mlogging\u001b[m\u001b[m\r\n",
      "call_put_consolidate_4.csv.gz \u001b[34msrc\u001b[m\u001b[m\r\n"
     ]
    }
   ],
   "source": [
    "!ls .."
   ]
  },
  {
   "cell_type": "code",
   "execution_count": 55,
   "metadata": {},
   "outputs": [],
   "source": [
    "import configparser\n",
    "import boto3"
   ]
  },
  {
   "cell_type": "code",
   "execution_count": 56,
   "metadata": {},
   "outputs": [
    {
     "data": {
      "text/plain": [
       "['../config.cfg']"
      ]
     },
     "execution_count": 56,
     "metadata": {},
     "output_type": "execute_result"
    }
   ],
   "source": [
    "# read config file\n",
    "config = configparser.ConfigParser()\n",
    "config.read('../config.cfg')"
   ]
  },
  {
   "cell_type": "code",
   "execution_count": 57,
   "metadata": {},
   "outputs": [],
   "source": [
    "# get KEY and SECRET from config file\n",
    "KEY = config.get('AWS', 'KEY')\n",
    "SECRET = config.get('AWS', 'SECRET')"
   ]
  },
  {
   "cell_type": "code",
   "execution_count": 58,
   "metadata": {},
   "outputs": [
    {
     "name": "stdout",
     "output_type": "stream",
     "text": [
      "s3.ObjectSummary(bucket_name='option-price-collection37', key='call_put_consolidate_1.csv.gz')\n",
      "s3.ObjectSummary(bucket_name='option-price-collection37', key='call_put_consolidate_2.csv.gz')\n",
      "s3.ObjectSummary(bucket_name='option-price-collection37', key='call_put_consolidate_3.csv.gz')\n",
      "s3.ObjectSummary(bucket_name='option-price-collection37', key='call_put_consolidate_4.csv.gz')\n",
      "s3.ObjectSummary(bucket_name='option-price-collection37', key='call_put_consolidate_5.csv.gz')\n"
     ]
    }
   ],
   "source": [
    "# Create S3 client\n",
    "s3 =  boto3.resource('s3', \n",
    "                    region_name = 'us-east-2',\n",
    "                    aws_access_key_id = KEY,\n",
    "                    aws_secret_access_key = SECRET)\n",
    "\n",
    "# Create 'option-price-collection37' bucket \n",
    "sampleDbBucket =  s3.Bucket(\"option-price-collection37\")\n",
    "\n",
    "# check available data files in S3\n",
    "for obj in sampleDbBucket.objects.filter(Prefix=\"call_put\"):\n",
    "    print(obj)"
   ]
  },
  {
   "cell_type": "code",
   "execution_count": 65,
   "metadata": {},
   "outputs": [],
   "source": [
    "# drop table queries\n",
    "staging_options_table_drop = \"DROP TABLE IF EXISTS staging_option;\"\n",
    "options_transaction_table_drop = \"DROP TABLE IF EXISTS fact_options_transation;\"\n",
    "options_table_drop = \"DROP TABLE IF EXISTS dim_contracts;\"\n",
    "tickers_table_drop = \"DROP TABLE IF EXISTS dim_tickers;\"\n",
    "drop_table_queries = [staging_options_table_drop, options_transaction_table_drop, \\\n",
    "                      options_table_drop, tickers_table_drop]"
   ]
  },
  {
   "cell_type": "code",
   "execution_count": 84,
   "metadata": {},
   "outputs": [],
   "source": [
    "# CREATE TABLES\n",
    "staging_options__table_create= (\"\"\"\n",
    "CREATE TABLE IF NOT EXISTS staging_option (\n",
    "          contractSymbol VARCHAR NOT NULL,\n",
    "          lastTradeDate TIMESTAMP NOT NULL sortkey,\n",
    "          strike NUMERIC,\n",
    "          lastPrice NUMERIC,\n",
    "          bid NUMERIC, \n",
    "          ask NUMERIC,\n",
    "          change NUMERIC, \n",
    "          percentChange NUMERIC,\n",
    "          volume NUMERIC,\n",
    "          openInterest NUMERIC,\n",
    "          impliedVolatility NUMERIC,\n",
    "          inTheMoney BOOLEAN,\n",
    "          contractSize VARCHAR,\n",
    "          currency VARCHAR,\n",
    "          Ticker VARCHAR NOT NULL distkey,\n",
    "          OptionType VARCHAR(1) NOT NULL,\n",
    "          contractExpiryDate VARCHAR(8) NOT NULL,\n",
    "          Company VARCHAR,\n",
    "          Exchange VARCHAR,\n",
    "          TypeDisp VARCHAR);\n",
    "\"\"\")\n",
    "\n",
    "options_transation_table_create = (\"\"\"\n",
    "CREATE TABLE IF NOT EXISTS fact_options_transation(\n",
    "          transaction_key INTEGER IDENTITY (0,1) PRIMARY KEY,\n",
    "          contract_key INTEGER, \n",
    "          ticker_key INTEGER distkey,\n",
    "          time TIMESTAMP NOT NULL sortkey,\n",
    "          price NUMERIC,\n",
    "          bid NUMERIC,\n",
    "          ask NUMERIC,\n",
    "          change NUMERIC,\n",
    "          percent_change NUMERIC,\n",
    "          volume INTEGER,\n",
    "          open_interest INTEGER,\n",
    "          implied_vol NUMERIC,\n",
    "          in_the_money BOOLEAN,\n",
    "          FOREIGN KEY(contract_key) REFERENCES dim_contracts(contract_key),\n",
    "          FOREIGN KEY(ticker_key) REFERENCES dim_tickers(ticker_key));\n",
    "\"\"\")\n",
    "\n",
    "contracts_table_create = (\"\"\"\n",
    "CREATE TABLE IF NOT EXISTS dim_contracts (\n",
    "          contract_key INTEGER IDENTITY (0,1) PRIMARY KEY, \n",
    "          contract_symbol VARCHAR NOT NULL,\n",
    "          maturity_date DATE NOT NULL sortkey, \n",
    "          strike NUMERIC NOT NULL, \n",
    "          option_type VARCHAR(1) NOT NULL, \n",
    "          ticker_key INTEGER NOT NULL distkey, \n",
    "          currency VARCHAR, \n",
    "          contract_size VARCHAR,\n",
    "          FOREIGN KEY(ticker_key) REFERENCES dim_tickers(ticker_key));\n",
    "\"\"\")\n",
    "\n",
    "tickers_table_create = (\"\"\"\n",
    "CREATE TABLE IF NOT EXISTS dim_tickers (\n",
    "        ticker_key INTEGER IDENTITY (0,1) PRIMARY KEY, \n",
    "        ticker VARCHAR NOT NULL sortkey,\n",
    "        company VARCHAR,\n",
    "        exchange_nm VARCHAR)\n",
    "diststyle all;\n",
    "\"\"\")\n",
    "\n",
    "create_table_queries = [staging_options__table_create, tickers_table_create, \n",
    "                        contracts_table_create, options_transation_table_create]"
   ]
  },
  {
   "cell_type": "code",
   "execution_count": 85,
   "metadata": {},
   "outputs": [],
   "source": [
    "def drop_tables(cur, conn):\n",
    "    \"\"\"\n",
    "    Drops each table using the queries in `drop_table_queries` list.\n",
    "    \n",
    "    input:\n",
    "    cur: cursor variable\n",
    "    conn: database connection object\n",
    "    \n",
    "    return: None\n",
    "    \"\"\"\n",
    "    for query in drop_table_queries:\n",
    "        cur.execute(query)\n",
    "        conn.commit()"
   ]
  },
  {
   "cell_type": "code",
   "execution_count": 86,
   "metadata": {},
   "outputs": [],
   "source": [
    "def create_tables(cur, conn):\n",
    "    \"\"\"\n",
    "    - Creates and connects to the sparkifydb\n",
    "    - Returns the connection and cursor to sparkifydb\n",
    "    \n",
    "    input: None\n",
    "    return: None\n",
    "    \"\"\"\n",
    "    for query in create_table_queries:\n",
    "        cur.execute(query)\n",
    "        conn.commit()"
   ]
  },
  {
   "cell_type": "code",
   "execution_count": 87,
   "metadata": {},
   "outputs": [],
   "source": [
    "# connect aws redshift cluster\n",
    "import psycopg2\n",
    "conn = psycopg2.connect(\"host={} dbname={} user={} password={} port={}\".format(*config['CLUSTER'].values()))\n",
    "cur = conn.cursor()\n",
    "\n",
    "# drop fact, dimension, staging table if they exist\n",
    "drop_tables(cur, conn)\n",
    "# create fact, dimension, staging table\n",
    "create_tables(cur, conn)\n",
    "\n",
    "conn.close()"
   ]
  },
  {
   "cell_type": "code",
   "execution_count": null,
   "metadata": {},
   "outputs": [],
   "source": []
  },
  {
   "cell_type": "code",
   "execution_count": null,
   "metadata": {},
   "outputs": [],
   "source": []
  },
  {
   "cell_type": "code",
   "execution_count": null,
   "metadata": {},
   "outputs": [],
   "source": []
  },
  {
   "cell_type": "code",
   "execution_count": null,
   "metadata": {},
   "outputs": [],
   "source": []
  },
  {
   "cell_type": "code",
   "execution_count": null,
   "metadata": {},
   "outputs": [],
   "source": []
  }
 ],
 "metadata": {
  "kernelspec": {
   "display_name": "Python 3",
   "language": "python",
   "name": "python3"
  },
  "language_info": {
   "codemirror_mode": {
    "name": "ipython",
    "version": 3
   },
   "file_extension": ".py",
   "mimetype": "text/x-python",
   "name": "python",
   "nbconvert_exporter": "python",
   "pygments_lexer": "ipython3",
   "version": "3.7.6"
  }
 },
 "nbformat": 4,
 "nbformat_minor": 4
}
